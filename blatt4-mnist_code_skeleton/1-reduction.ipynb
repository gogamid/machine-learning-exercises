{
 "cells": [
  {
   "cell_type": "code",
   "execution_count": 1,
   "metadata": {
    "collapsed": true
   },
   "outputs": [],
   "source": [
    "\n",
    "import sys\n",
    "\n",
    "import numpy as np\n",
    "import requests\n",
    "import os\n",
    "\n",
    "## download MNIST if not present in current dir!\n",
    "if os.path.exists(\"./mnist.npz\") == False:\n",
    "    print(\"Downloading MNIST...\");\n",
    "    fname = 'mnist.npz'\n",
    "    url = 'http://www.gepperth.net/alexander/downloads/'\n",
    "    r = requests.get(url + fname)\n",
    "    open(fname, 'wb').write(r.content)\n",
    "\n",
    "## read it into 'traind' and 'trainl'\n",
    "data = np.load(\"mnist.npz\")\n",
    "traind = data[\"arr_0\"];\n",
    "trainl = data[\"arr_2\"];"
   ]
  },
  {
   "cell_type": "code",
   "execution_count": 10,
   "outputs": [
    {
     "name": "stdout",
     "output_type": "stream",
     "text": [
      "0\n"
     ]
    }
   ],
   "source": [
    "# Examples argmax\n",
    "# --------\n",
    "# >>> a = np.arange(6).reshape(2,3) + 10\n",
    "# >>> a\n",
    "# array([[10, 11, 12],\n",
    "#        [13, 14, 15]])\n",
    "# >>> np.argmax(a)\n",
    "# 5\n",
    "# >>> np.argmax(a, axis=0)  row-wise\n",
    "# array([1, 1, 1]) meaning the maximum values in each column are in the second row.\n",
    "# >>> np.argmax(a, axis=1) column-wise\n",
    "# array([2, 2]) maximum values in each row are in the 2 row\n",
    "\n",
    "# a) Compute the pixel argmax for pixel 0,0 over all samples\n",
    "a = np.argmax(traind[:, 0, 0])\n",
    "print(a)"
   ],
   "metadata": {
    "collapsed": false
   }
  },
  {
   "cell_type": "code",
   "execution_count": 37,
   "outputs": [
    {
     "name": "stdout",
     "output_type": "stream",
     "text": [
      "[[0.         0.         0.         ... 0.         0.         0.        ]\n",
      " [0.         0.         0.         ... 0.         0.         0.        ]\n",
      " [0.         0.         0.         ... 0.         0.         0.        ]\n",
      " ...\n",
      " [0.         0.         0.         ... 0.         0.         0.        ]\n",
      " [0.         0.         0.07058498 ... 0.         0.         0.        ]\n",
      " [0.         0.         0.         ... 0.         0.         0.        ]]\n"
     ]
    }
   ],
   "source": [
    "# b) Compute the row-wise mean over all samples\n",
    "b = np.mean(traind, axis=2)\n",
    "print(b)"
   ],
   "metadata": {
    "collapsed": false
   }
  },
  {
   "cell_type": "code",
   "execution_count": 36,
   "outputs": [
    {
     "name": "stdout",
     "output_type": "stream",
     "text": [
      "[[0.        0.        0.        ... 0.        0.        0.       ]\n",
      " [0.        0.        0.        ... 0.        0.        0.       ]\n",
      " [0.        0.        0.        ... 0.        0.        0.       ]\n",
      " ...\n",
      " [0.        0.        0.        ... 0.7451172 0.        0.       ]\n",
      " [0.        0.        0.        ... 0.        0.        0.       ]\n",
      " [0.        0.        0.        ... 1.9291992 0.9647217 0.       ]]\n"
     ]
    }
   ],
   "source": [
    "# c) Compute the column-wise sum over all samples\n",
    "c = np.sum(traind, axis=1)\n",
    "print(c)"
   ],
   "metadata": {
    "collapsed": false
   }
  },
  {
   "cell_type": "code",
   "execution_count": null,
   "outputs": [],
   "source": [],
   "metadata": {
    "collapsed": false
   }
  }
 ],
 "metadata": {
  "kernelspec": {
   "display_name": "Python 3",
   "language": "python",
   "name": "python3"
  },
  "language_info": {
   "codemirror_mode": {
    "name": "ipython",
    "version": 2
   },
   "file_extension": ".py",
   "mimetype": "text/x-python",
   "name": "python",
   "nbconvert_exporter": "python",
   "pygments_lexer": "ipython2",
   "version": "2.7.6"
  }
 },
 "nbformat": 4,
 "nbformat_minor": 0
}
