{
 "cells": [
  {
   "cell_type": "code",
   "execution_count": 1,
   "metadata": {
    "collapsed": true
   },
   "outputs": [],
   "source": [
    "import numpy as np\n",
    "\n",
    "\n",
    "def f(x):\n",
    "    # function definition\n",
    "    return x[0] ** 2 + 2 * x[1] ** 2\n",
    "\n",
    "\n",
    "def gradf(x):\n",
    "    # gradient of function\n",
    "    return [2 * x[0], 4 * x[1]] #array\n",
    "\n",
    "\n",
    "def gradient_descent(x0, step_size, num_steps):\n",
    "    x = x0\n",
    "    for i in range(num_steps):\n",
    "        grad = gradf(x)\n",
    "        x = x - step_size * np.array(grad)\n",
    "        print(\"Step {}: x = {}, f(x) = {}\".format(i, x, f(x)))\n",
    "\n"
   ]
  },
  {
   "cell_type": "code",
   "execution_count": 3,
   "outputs": [
    {
     "name": "stdout",
     "output_type": "stream",
     "text": [
      "Step 0: x = [0.8 1.8], f(x) = 7.119999999999999\n",
      "Step 1: x = [0.64 1.08], f(x) = 2.7423999999999995\n"
     ]
    }
   ],
   "source": [
    "# example usage\n",
    "x0 = [1, 3]\n",
    "step_size = 0.1\n",
    "num_steps = 2\n",
    "gradient_descent(x0, step_size, num_steps)"
   ],
   "metadata": {
    "collapsed": false
   }
  },
  {
   "cell_type": "code",
   "execution_count": null,
   "outputs": [],
   "source": [],
   "metadata": {
    "collapsed": false
   }
  }
 ],
 "metadata": {
  "kernelspec": {
   "display_name": "Python 3",
   "language": "python",
   "name": "python3"
  },
  "language_info": {
   "codemirror_mode": {
    "name": "ipython",
    "version": 2
   },
   "file_extension": ".py",
   "mimetype": "text/x-python",
   "name": "python",
   "nbconvert_exporter": "python",
   "pygments_lexer": "ipython2",
   "version": "2.7.6"
  }
 },
 "nbformat": 4,
 "nbformat_minor": 0
}
