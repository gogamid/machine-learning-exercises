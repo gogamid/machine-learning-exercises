{
 "cells": [
  {
   "cell_type": "code",
   "execution_count": 1,
   "metadata": {
    "collapsed": true
   },
   "outputs": [
    {
     "name": "stdout",
     "output_type": "stream",
     "text": [
      "Metal device set to: Apple M1 Pro\n",
      "tf.Tensor(\n",
      "[ 0  2  4  6  8 10 12 14 16 18 20 22 24 26 28 30 32 34 36 38 40 42 44 46\n",
      " 48 50 52 54 56 58 60 62 64 66 68 70 72 74 76 78 80 82 84 86 88 90 92 94\n",
      " 96 98], shape=(50,), dtype=int32)\n"
     ]
    },
    {
     "name": "stderr",
     "output_type": "stream",
     "text": [
      "2023-02-19 14:46:16.061071: I tensorflow/core/common_runtime/pluggable_device/pluggable_device_factory.cc:305] Could not identify NUMA node of platform GPU ID 0, defaulting to 0. Your kernel may not have been built with NUMA support.\n",
      "2023-02-19 14:46:16.061205: I tensorflow/core/common_runtime/pluggable_device/pluggable_device_factory.cc:271] Created TensorFlow device (/job:localhost/replica:0/task:0/device:GPU:0 with 0 MB memory) -> physical PluggableDevice (device: 0, name: METAL, pci bus id: <undefined>)\n"
     ]
    }
   ],
   "source": [
    "import tensorflow as tf\n",
    "\n",
    "#Create a 1D tensor with entries from 0 to 100 in steps of 2\n",
    "x = tf.range(0, 100, 2)\n",
    "print(x)"
   ]
  },
  {
   "cell_type": "code",
   "execution_count": 2,
   "outputs": [
    {
     "name": "stdout",
     "output_type": "stream",
     "text": [
      "tf.Tensor(\n",
      "[[1.]\n",
      " [2.]\n",
      " [3.]], shape=(3, 1), dtype=float64)\n",
      "tf.Tensor(\n",
      "[[1. 1. 1.]\n",
      " [1. 1. 1.]\n",
      " [1. 1. 1.]], shape=(3, 3), dtype=float64)\n",
      "tf.Tensor(\n",
      "[[1. 1. 1.]\n",
      " [2. 2. 2.]\n",
      " [3. 3. 3.]], shape=(3, 3), dtype=float64)\n"
     ]
    }
   ],
   "source": [
    "# Create a 2D tensor with 3 rows and 3 columns, with row entries 1,1,1..., 2,2,2,..., 3,3,3,...\n",
    "# y = tf.constant([1,1,1,2,2,2,3,3,3], shape=[3,3])\n",
    "# variant 2\n",
    "a = tf.reshape(tf.range(1,4, dtype=tf.float64), [3,1])\n",
    "b = tf.ones([3,3], dtype=tf.float64)\n",
    "print(a)\n",
    "print(b)\n",
    "y = a * b\n",
    "print(y)\n"
   ],
   "metadata": {
    "collapsed": false
   }
  },
  {
   "cell_type": "code",
   "execution_count": 3,
   "outputs": [
    {
     "name": "stdout",
     "output_type": "stream",
     "text": [
      "tf.Tensor(\n",
      "[[55 55 55 55 55]\n",
      " [55 55 55 55 55]\n",
      " [55 55 55 55 55]], shape=(3, 5), dtype=int32)\n"
     ]
    }
   ],
   "source": [
    "#Create a 2D tensor with 3 rows and 5 columns that has the value 55 everywhere\n",
    "c = tf.ones([3,5], dtype=tf.int32) * 55\n",
    "print(c)"
   ],
   "metadata": {
    "collapsed": false
   }
  },
  {
   "cell_type": "code",
   "execution_count": 4,
   "outputs": [
    {
     "name": "stdout",
     "output_type": "stream",
     "text": [
      "tf.Tensor(\n",
      "[[[0.45318544 0.87100565 0.4060533 ]\n",
      "  [0.93715155 0.5758554  0.04351306]\n",
      "  [0.11452162 0.01556396 0.01377392]\n",
      "  [0.6468859  0.3669753  0.37134123]]\n",
      "\n",
      " [[0.70536375 0.37039876 0.26180267]\n",
      "  [0.46365654 0.6424414  0.40326774]\n",
      "  [0.26744008 0.11199903 0.24345219]\n",
      "  [0.4638555  0.47405207 0.02891743]]\n",
      "\n",
      " [[0.31579232 0.63346326 0.9441289 ]\n",
      "  [0.30093074 0.04362357 0.21249545]\n",
      "  [0.5402416  0.45216095 0.289181  ]\n",
      "  [0.41256142 0.31057942 0.35716546]]\n",
      "\n",
      " [[0.91609883 0.8995817  0.99516714]\n",
      "  [0.3628229  0.8337654  0.89414454]\n",
      "  [0.5733926  0.06359768 0.6173661 ]\n",
      "  [0.2157731  0.00672996 0.56959975]]\n",
      "\n",
      " [[0.12389135 0.52485347 0.20850277]\n",
      "  [0.34877944 0.29662895 0.5478809 ]\n",
      "  [0.9876311  0.6564064  0.01008403]\n",
      "  [0.1779095  0.36362898 0.6592181 ]]], shape=(5, 4, 3), dtype=float32)\n"
     ]
    }
   ],
   "source": [
    "#Create a 3D tensor with shape (5,4,3) with uniform random entries between 0 and 1.\n",
    "d = tf.random.uniform((5,4,3),0,1) #fist shape and min and max compared to np\n",
    "print(d)"
   ],
   "metadata": {
    "collapsed": false
   }
  },
  {
   "cell_type": "code",
   "execution_count": null,
   "outputs": [],
   "source": [],
   "metadata": {
    "collapsed": false
   }
  }
 ],
 "metadata": {
  "kernelspec": {
   "display_name": "Python 3",
   "language": "python",
   "name": "python3"
  },
  "language_info": {
   "codemirror_mode": {
    "name": "ipython",
    "version": 2
   },
   "file_extension": ".py",
   "mimetype": "text/x-python",
   "name": "python",
   "nbconvert_exporter": "python",
   "pygments_lexer": "ipython2",
   "version": "2.7.6"
  }
 },
 "nbformat": 4,
 "nbformat_minor": 0
}
