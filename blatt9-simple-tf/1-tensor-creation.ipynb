{
 "cells": [
  {
   "cell_type": "code",
   "execution_count": null,
   "metadata": {
    "collapsed": true,
    "pycharm": {
     "is_executing": true
    }
   },
   "outputs": [],
   "source": [
    "import tensorflow as tf\n",
    "\n",
    "#Create a 1D tensor with entries from 0 to 100 in steps of 2\n",
    "x = tf.range(0, 100, 2)\n",
    "print(x)"
   ]
  },
  {
   "cell_type": "code",
   "execution_count": 13,
   "outputs": [
    {
     "name": "stdout",
     "output_type": "stream",
     "text": [
      "tf.Tensor(\n",
      "[[1.]\n",
      " [2.]\n",
      " [3.]], shape=(3, 1), dtype=float64)\n",
      "tf.Tensor(\n",
      "[[1. 1. 1.]\n",
      " [1. 1. 1.]\n",
      " [1. 1. 1.]], shape=(3, 3), dtype=float64)\n",
      "tf.Tensor(\n",
      "[[1. 1. 1.]\n",
      " [2. 2. 2.]\n",
      " [3. 3. 3.]], shape=(3, 3), dtype=float64)\n"
     ]
    }
   ],
   "source": [
    "# Create a 2D tensor with 3 rows and 3 columns, with row entries 1,1,1..., 2,2,2,..., 3,3,3,...\n",
    "# y = tf.constant([1,1,1,2,2,2,3,3,3], shape=[3,3])\n",
    "# variant 2\n",
    "a = tf.reshape(tf.range(1,4, dtype=tf.float64), [3,1])\n",
    "b = tf.ones([3,3], dtype=tf.float64)\n",
    "print(a)\n",
    "print(b)\n",
    "y = a * b\n",
    "print(y)\n"
   ],
   "metadata": {
    "collapsed": false
   }
  },
  {
   "cell_type": "code",
   "execution_count": 17,
   "outputs": [
    {
     "name": "stdout",
     "output_type": "stream",
     "text": [
      "tf.Tensor(\n",
      "[[55 55 55 55 55]\n",
      " [55 55 55 55 55]\n",
      " [55 55 55 55 55]], shape=(3, 5), dtype=int32)\n"
     ]
    }
   ],
   "source": [
    "#Create a 2D tensor with 3 rows and 5 columns that has the value 55 everywhere\n",
    "c = tf.ones([3,5], dtype=tf.int32) * 55\n",
    "print(c)"
   ],
   "metadata": {
    "collapsed": false
   }
  },
  {
   "cell_type": "code",
   "execution_count": 31,
   "outputs": [
    {
     "name": "stdout",
     "output_type": "stream",
     "text": [
      "tf.Tensor(\n",
      "[[[0.31179297 0.8263413  0.6849456 ]\n",
      "  [0.0067091  0.78749514 0.3906511 ]\n",
      "  [0.29263055 0.99216926 0.95810425]\n",
      "  [0.55623317 0.16466296 0.13445711]]\n",
      "\n",
      " [[0.13229859 0.5348098  0.57090175]\n",
      "  [0.50970507 0.48252344 0.15580535]\n",
      "  [0.3703227  0.49210668 0.567016  ]\n",
      "  [0.2077086  0.18223882 0.99883735]]\n",
      "\n",
      " [[0.36950588 0.37927854 0.7723117 ]\n",
      "  [0.68211746 0.39932835 0.7840713 ]\n",
      "  [0.67880154 0.73395896 0.5520444 ]\n",
      "  [0.10948515 0.6487982  0.9890779 ]]\n",
      "\n",
      " [[0.8203654  0.70470357 0.9578625 ]\n",
      "  [0.02297425 0.93598676 0.6513264 ]\n",
      "  [0.31663585 0.00111556 0.9212191 ]\n",
      "  [0.3822806  0.77246034 0.91514194]]\n",
      "\n",
      " [[0.5751133  0.793342   0.4289763 ]\n",
      "  [0.19118965 0.7452506  0.41762006]\n",
      "  [0.8173511  0.20117116 0.6457157 ]\n",
      "  [0.16484237 0.4484123  0.6057888 ]]], shape=(5, 4, 3), dtype=float32)\n"
     ]
    }
   ],
   "source": [
    "#Create a 3D tensor with shape (5,4,3) with uniform random entries between 0 and 1.\n",
    "d = tf.random.uniform((5,4,3),0,1) #fist shape and min and max compared to np\n",
    "print(d)"
   ],
   "metadata": {
    "collapsed": false
   }
  },
  {
   "cell_type": "code",
   "execution_count": null,
   "outputs": [],
   "source": [],
   "metadata": {
    "collapsed": false
   }
  }
 ],
 "metadata": {
  "kernelspec": {
   "display_name": "Python 3",
   "language": "python",
   "name": "python3"
  },
  "language_info": {
   "codemirror_mode": {
    "name": "ipython",
    "version": 2
   },
   "file_extension": ".py",
   "mimetype": "text/x-python",
   "name": "python",
   "nbconvert_exporter": "python",
   "pygments_lexer": "ipython2",
   "version": "2.7.6"
  }
 },
 "nbformat": 4,
 "nbformat_minor": 0
}
