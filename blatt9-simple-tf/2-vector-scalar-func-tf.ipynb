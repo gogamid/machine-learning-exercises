{
 "cells": [
  {
   "cell_type": "code",
   "execution_count": 9,
   "metadata": {
    "collapsed": true
   },
   "outputs": [
    {
     "name": "stdout",
     "output_type": "stream",
     "text": [
      "tf.Tensor([2. 4. 6.], shape=(3,), dtype=float32)\n",
      "tf.Tensor([4. 0. 4.], shape=(3,), dtype=float32)\n"
     ]
    }
   ],
   "source": [
    "import tensorflow as tf\n",
    "\n",
    "def f(x): # assume x is a Tensor\n",
    "    return tf.reduce_sum(x*x) ;\n",
    "\n",
    "with tf.GradientTape(persistent=True) as g:\n",
    "    x1 = tf.constant([1.,2.,3.]) ;\n",
    "    x2 = tf.constant([2.,0.,2.]) ;\n",
    "    g.watch(x1) ; g.watch(x2) ;\n",
    "    y1 = f(x1) ;\n",
    "    y2 = f(x2) ;\n",
    "\n",
    "print (g.gradient(y1, x1)) ;\n",
    "print (g.gradient(y2, x2)) ;"
   ]
  },
  {
   "cell_type": "code",
   "execution_count": null,
   "outputs": [],
   "source": [],
   "metadata": {
    "collapsed": false
   }
  }
 ],
 "metadata": {
  "kernelspec": {
   "display_name": "Python 3",
   "language": "python",
   "name": "python3"
  },
  "language_info": {
   "codemirror_mode": {
    "name": "ipython",
    "version": 2
   },
   "file_extension": ".py",
   "mimetype": "text/x-python",
   "name": "python",
   "nbconvert_exporter": "python",
   "pygments_lexer": "ipython2",
   "version": "2.7.6"
  }
 },
 "nbformat": 4,
 "nbformat_minor": 0
}
