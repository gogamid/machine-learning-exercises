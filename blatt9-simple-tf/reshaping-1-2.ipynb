{
 "cells": [
  {
   "cell_type": "code",
   "execution_count": 1,
   "metadata": {
    "collapsed": true
   },
   "outputs": [
    {
     "name": "stdout",
     "output_type": "stream",
     "text": [
      "Metal device set to: Apple M1 Pro\n",
      "(300, 2)\n",
      "(300, 1, 1, 2)\n"
     ]
    },
    {
     "name": "stderr",
     "output_type": "stream",
     "text": [
      "2023-02-19 17:06:01.854772: I tensorflow/core/common_runtime/pluggable_device/pluggable_device_factory.cc:305] Could not identify NUMA node of platform GPU ID 0, defaulting to 0. Your kernel may not have been built with NUMA support.\n",
      "2023-02-19 17:06:01.854885: I tensorflow/core/common_runtime/pluggable_device/pluggable_device_factory.cc:271] Created TensorFlow device (/job:localhost/replica:0/task:0/device:GPU:0 with 0 MB memory) -> physical PluggableDevice (device: 0, name: METAL, pci bus id: <undefined>)\n"
     ]
    }
   ],
   "source": [
    "import tensorflow as tf\n",
    "# Assuming you have a TF tensor of shape (10,20,3): which calls to tf.reshape are illegal, and why? Try it out!\n",
    "# a) x = tf.reshape(x,(300,2))\n",
    "# b) x = tf.reshape(x ,(300,1,1,2))\n",
    "# c) x = tf.reshape(x ,(300,2,2,1))\n",
    "# d) x = tf.reshape(x,(60,3,3))\n",
    "\n",
    "x = tf.ones((10,20,3))\n",
    "\n",
    "a = tf.reshape(x,(300,2))\n",
    "print(a.shape)\n",
    "b = tf.reshape(x ,(300,1,1,2))\n",
    "print(b.shape)\n",
    "# c = tf.reshape(x ,(300,2,2,1))\n",
    "# print(c.shape)\n",
    "# d = tf.reshape(x,(60,3,3))\n",
    "# print(d.shape)"
   ]
  },
  {
   "cell_type": "code",
   "execution_count": 5,
   "outputs": [
    {
     "name": "stdout",
     "output_type": "stream",
     "text": [
      "(2, 300)\n",
      "(300, 1, 1, 1, 2)\n",
      "(100, 6, 1)\n",
      "(50, 2, 2, 3)\n"
     ]
    }
   ],
   "source": [
    "\n",
    "# Assuming you have a TF tensor x of shape (10,20,3): what shapes are produced by the following calls? Try it out and explain!\n",
    "# a) x = tf.reshape(x, (-1,300))\n",
    "# b) x = tf.reshape(x, (300,1,1,1,-1))\n",
    "# c) x = tf.reshape(x,(100,-1,1))\n",
    "# d) x = tf.reshape(x,(50,2,-1,3))\n",
    "x = tf.ones((10,20,3))\n",
    "a = tf.reshape(x, (-1,300))\n",
    "print(a.shape)\n",
    "a = tf.reshape(x, (300, 1, 1,1, -1))\n",
    "print(a.shape)\n",
    "a = tf.reshape(x,(100,-1,1))\n",
    "print(a.shape)\n",
    "a = tf.reshape(x,(50,2,-1,3))\n",
    "print(a.shape)\n",
    "\n"
   ],
   "metadata": {
    "collapsed": false
   }
  },
  {
   "cell_type": "code",
   "execution_count": null,
   "outputs": [],
   "source": [],
   "metadata": {
    "collapsed": false
   }
  }
 ],
 "metadata": {
  "kernelspec": {
   "display_name": "Python 3",
   "language": "python",
   "name": "python3"
  },
  "language_info": {
   "codemirror_mode": {
    "name": "ipython",
    "version": 2
   },
   "file_extension": ".py",
   "mimetype": "text/x-python",
   "name": "python",
   "nbconvert_exporter": "python",
   "pygments_lexer": "ipython2",
   "version": "2.7.6"
  }
 },
 "nbformat": 4,
 "nbformat_minor": 0
}
