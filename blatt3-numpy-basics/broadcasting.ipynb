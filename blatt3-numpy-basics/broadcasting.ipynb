{
 "cells": [
  {
   "cell_type": "code",
   "execution_count": 1,
   "metadata": {
    "collapsed": true
   },
   "outputs": [],
   "source": [
    "import numpy as np\n",
    "\n",
    "traind = np.random.uniform(0, 255, (2000, 20, 20))"
   ]
  },
  {
   "cell_type": "code",
   "execution_count": 2,
   "outputs": [
    {
     "name": "stdout",
     "output_type": "stream",
     "text": [
      "(2000, 20, 20)\n"
     ]
    }
   ],
   "source": [
    "# a) create a 20-element vector with entries from 1 to 20, and add it to all rows of all samples using broadcasting\n",
    "vec = np.arange(1,21,1)\n",
    "traind+=vec.reshape(1,1,20)\n",
    "print(traind.shape)"
   ],
   "metadata": {
    "collapsed": false
   }
  },
  {
   "cell_type": "code",
   "execution_count": 3,
   "outputs": [
    {
     "name": "stdout",
     "output_type": "stream",
     "text": [
      "(2000, 20, 20)\n"
     ]
    }
   ],
   "source": [
    "# b) create a 20-element vector with entries from 1 to 20, and add it to all columns of all samples using broadcasting\n",
    "\n",
    "traind+=vec.reshape(1,20,1)\n",
    "print(traind.shape)"
   ],
   "metadata": {
    "collapsed": false
   }
  },
  {
   "cell_type": "code",
   "execution_count": 4,
   "outputs": [
    {
     "name": "stdout",
     "output_type": "stream",
     "text": [
      "(2000, 20, 20)\n"
     ]
    }
   ],
   "source": [
    "# c) add sample 0 to all other samples of ‘traind’.\n",
    "\n",
    "traind+=traind[0].reshape(1,20,20)\n",
    "print(traind.shape)"
   ],
   "metadata": {
    "collapsed": false
   }
  }
 ],
 "metadata": {
  "kernelspec": {
   "display_name": "Python 3",
   "language": "python",
   "name": "python3"
  },
  "language_info": {
   "codemirror_mode": {
    "name": "ipython",
    "version": 2
   },
   "file_extension": ".py",
   "mimetype": "text/x-python",
   "name": "python",
   "nbconvert_exporter": "python",
   "pygments_lexer": "ipython2",
   "version": "2.7.6"
  }
 },
 "nbformat": 4,
 "nbformat_minor": 0
}
