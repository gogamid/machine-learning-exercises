{
 "cells": [
  {
   "cell_type": "code",
   "execution_count": 1,
   "metadata": {
    "collapsed": true
   },
   "outputs": [],
   "source": [
    "import numpy as np\n",
    "\n",
    "# q: give me example of np.arrange\n",
    "# a: np.arange(10) gives [0,1,2,3,4,5,6,7,8,9]\n",
    "# np.arange(1,9,2) gives [1,3,5,7]\n",
    "# np.arange(0,1,0.1) gives [0,0.1,0.2,0.3,0.4,0.5,0.6,0.7,0.8,0.9]\n",
    "\n",
    "# q: give me example of np.linspace\n",
    "# a: np.linspace(0,1,6) gives [0,0.2,0.4,0.6,0.8,1]\n",
    "# np.linspace(0,1,5,endpoint=False) gives [0,0.25,0.5,0.75]\n",
    "\n",
    "# q: give me example of np.random.uniform\n",
    "# a: np.random.uniform(0,1,10) gives [0.1,0.2,0.3,0.4,0.5,0.6,0.7,0.8,0.9]\n",
    "# np.random.uniform(0,1,(3,3)) gives [[0.1,0.2,0.3],[0.4,0.5,0.6],[0.7,0.8,0.9]]\n",
    "\n",
    "# q: give me example of np.ones\n",
    "# a: np.ones(3) gives [1,1,1]\n",
    "# np.ones((3,3)) gives [[1,1,1],[1,1,1],[1,1,1]]\n",
    "\n",
    "# q: give me example of np.zeros\n",
    "# a: np.zeros(3) gives [0,0,0]\n",
    "# np.zeros((3,3)) gives [[0,0,0],[0,0,0],[0,0,0]]\n",
    "\n",
    "# q: give me example of np.reshape\n",
    "# a: np.arange(9).reshape(3,3) gives [[0,1,2],[3,4,5],[6,7,8]]\n",
    "\n",
    "# q: give me example of list comprehension\n",
    "# a: [i for i in range(10)] gives [0,1,2,3,4,5,6,7,8,9]\n",
    "# [i for i in range(10) if i%2==0] gives [0,2,4,6,8]\n"
   ]
  },
  {
   "cell_type": "code",
   "execution_count": 2,
   "outputs": [
    {
     "name": "stdout",
     "output_type": "stream",
     "text": [
      "[  0   2   4   6   8  10  12  14  16  18  20  22  24  26  28  30  32  34\n",
      "  36  38  40  42  44  46  48  50  52  54  56  58  60  62  64  66  68  70\n",
      "  72  74  76  78  80  82  84  86  88  90  92  94  96  98 100]\n"
     ]
    }
   ],
   "source": [
    "# a Create a 1D array with entries from 0 to 100 in steps of 2\n",
    "a = np.arange(0, 101, 2)\n",
    "print(a)\n"
   ],
   "metadata": {
    "collapsed": false
   }
  },
  {
   "cell_type": "code",
   "execution_count": 3,
   "outputs": [
    {
     "name": "stdout",
     "output_type": "stream",
     "text": [
      "[[1. 1. 1.]\n",
      " [2. 2. 2.]\n",
      " [3. 3. 3.]]\n",
      "[[1 1 1]\n",
      " [2 2 2]\n",
      " [3 3 3]]\n"
     ]
    }
   ],
   "source": [
    "# b Create a 2D array with 3 rows and 3 columns, with row entries 1,1,1..., 2,2,2,..., 3,3,3,...\n",
    "b = np.ones([3, 3]) * np.arange(1, 4, 1).reshape(3, 1)\n",
    "print(b)\n",
    "b = np.array([1, 1, 1, 2, 2, 2, 3, 3, 3]).reshape(3, 3)\n",
    "print(b)"
   ],
   "metadata": {
    "collapsed": false
   }
  },
  {
   "cell_type": "code",
   "execution_count": 4,
   "outputs": [
    {
     "name": "stdout",
     "output_type": "stream",
     "text": [
      "[[55. 55. 55. 55. 55.]\n",
      " [55. 55. 55. 55. 55.]\n",
      " [55. 55. 55. 55. 55.]]\n"
     ]
    }
   ],
   "source": [
    "# c Create a 2D array with 3 rows and 5 columns that has the value 55 every- where\n",
    "c = np.ones([3, 5]) * 55\n",
    "print(c)"
   ],
   "metadata": {
    "collapsed": false
   }
  },
  {
   "cell_type": "code",
   "execution_count": 5,
   "outputs": [
    {
     "name": "stdout",
     "output_type": "stream",
     "text": [
      "[[[0.41628085 0.80708576 0.85179655]\n",
      "  [0.22955439 0.34208342 0.86410503]\n",
      "  [0.51286989 0.04213571 0.0367004 ]\n",
      "  [0.33773488 0.54811461 0.85400466]]\n",
      "\n",
      " [[0.59763534 0.10872504 0.17930632]\n",
      "  [0.96179029 0.02896934 0.77422668]\n",
      "  [0.74885032 0.08527381 0.28635227]\n",
      "  [0.25137874 0.04222422 0.72773674]]\n",
      "\n",
      " [[0.41255958 0.38426028 0.41546869]\n",
      "  [0.05272384 0.1273065  0.69831445]\n",
      "  [0.73393888 0.66989777 0.48578334]\n",
      "  [0.30105849 0.53107108 0.78188869]]\n",
      "\n",
      " [[0.19821024 0.21862056 0.57972313]\n",
      "  [0.1123286  0.46438384 0.05352624]\n",
      "  [0.05311095 0.53699592 0.28256653]\n",
      "  [0.29999396 0.13715697 0.32582194]]\n",
      "\n",
      " [[0.48111866 0.90659643 0.63403234]\n",
      "  [0.64923842 0.34411846 0.60107533]\n",
      "  [0.07343478 0.12227601 0.74808688]\n",
      "  [0.73355194 0.50722621 0.57597553]]]\n"
     ]
    }
   ],
   "source": [
    "# d Create a 3D tensor with shape (5,4,3) with uniform random entries between 0 and 1.\n",
    "d = np.random.uniform(0, 1, (5, 4, 3))\n",
    "d = np.random.uniform(0, 1, 60).reshape(5, 4, 3)\n",
    "print(d)"
   ],
   "metadata": {
    "collapsed": false
   }
  }
 ],
 "metadata": {
  "kernelspec": {
   "display_name": "Python 3",
   "language": "python",
   "name": "python3"
  },
  "language_info": {
   "codemirror_mode": {
    "name": "ipython",
    "version": 2
   },
   "file_extension": ".py",
   "mimetype": "text/x-python",
   "name": "python",
   "nbconvert_exporter": "python",
   "pygments_lexer": "ipython2",
   "version": "2.7.6"
  }
 },
 "nbformat": 4,
 "nbformat_minor": 0
}
