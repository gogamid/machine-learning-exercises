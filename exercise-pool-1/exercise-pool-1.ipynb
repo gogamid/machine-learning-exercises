{
 "cells": [
  {
   "cell_type": "code",
   "execution_count": 110,
   "metadata": {
    "collapsed": true
   },
   "outputs": [],
   "source": [
    "import numpy as np;\n",
    "import requests;\n",
    "import os;\n",
    "import sys;\n",
    "\n",
    "## download MNIST if not present in current dir!\n",
    "if os.path.exists(\"./mnist.npz\") == False:\n",
    "    print(\"Downloading MNIST...\");\n",
    "    fname = 'mnist.npz'\n",
    "    url = 'http://www.gepperth.net/alexander/downloads/'\n",
    "    r = requests.get(url + fname)\n",
    "    open(fname, 'wb').write(r.content)\n",
    "\n",
    "## read it into 'traind' and 'trainl'\n",
    "data = np.load(\"mnist.npz\")\n",
    "traind = data[\"arr_0\"];\n",
    "trainl = data[\"arr_2\"];"
   ]
  },
  {
   "cell_type": "code",
   "execution_count": 111,
   "outputs": [
    {
     "name": "stdout",
     "output_type": "stream",
     "text": [
      "[11, 13, 15, 17, 19]\n",
      "[0, 10, 20, 30, 40, 50, 60, 70, 80, 90]\n",
      "[0, 3, 6, 9, 12]\n",
      "['x', 'xx', 'xxx', 'xxxx', 'xxxxx', 'xxxxxx', 'xxxxxxx', 'xxxxxxxx', 'xxxxxxxxx', 'xxxxxxxxxx']\n",
      "['x1', 'x2', 'x3', 'x4', 'x5']\n",
      "['1', 1, 1.0, 'one']\n",
      "[5, 15, 25, 35, 45, 50, 51, 52, 53, 54, 55, 56, 57, 58, 59, 65, 75, 85, 95]\n"
     ]
    }
   ],
   "source": [
    "#1\n",
    "# python list comprehension\n",
    "\n",
    "#numbers from 10 to 20(included) that are odd\n",
    "ex1_1 = [x for x in range(10, 21) if x % 2 == 1]\n",
    "print(ex1_1)\n",
    "#numbers from 100 to 0(included) that can be divided by 10 (use %, the modulus operator and list comprehension)\n",
    "ex1_2 = [x for x in range(0, 100) if x % 10 == 0]\n",
    "print(ex1_2)\n",
    "ex1_3 = [x for x in range(0, 15) if x % 3 == 0]\n",
    "print(ex1_3)\n",
    "#string like “x”, “xx”, “xxx” repeated 10 times. Use the fact that, in Python, a string s multiplied by an integer n results in s repeated n times.\n",
    "ex1_4 = [\"x\" * x for x in range(1, 11)]\n",
    "print(ex1_4)\n",
    "ex1_5 = [\"x\" + str(x) for x in range(1, 6)]\n",
    "print(ex1_5)\n",
    "ex1_6 = [\"1\", 1, 1.0, \"one\"]\n",
    "print(ex1_6)\n",
    "ex1_7 = [x for x in range(1, 99) if str(x).find(\"5\") != -1]\n",
    "print(ex1_7)"
   ],
   "metadata": {
    "collapsed": false
   }
  },
  {
   "cell_type": "code",
   "execution_count": 112,
   "outputs": [
    {
     "name": "stdout",
     "output_type": "stream",
     "text": [
      "[-100  -98  -96  -94  -92  -90  -88  -86  -84  -82  -80  -78  -76  -74\n",
      "  -72  -70  -68  -66  -64  -62  -60  -58  -56  -54  -52  -50  -48  -46\n",
      "  -44  -42  -40  -38  -36  -34  -32  -30  -28  -26  -24  -22  -20  -18\n",
      "  -16  -14  -12  -10   -8   -6   -4   -2    0]\n",
      "[[1. 1.]\n",
      " [2. 2.]\n",
      " [3. 3.]]\n",
      "[[-1. -1.]\n",
      " [-1. -1.]\n",
      " [-1. -1.]]\n",
      "[[[-0.24306867  1.27042677  1.04267306]\n",
      "  [-0.21478182 -1.61917346 -0.71830819]\n",
      "  [ 1.8077137   0.07473172 -1.23610935]\n",
      "  [ 0.07335781  2.28167809  0.72592466]]\n",
      "\n",
      " [[ 0.13058031 -0.3424563  -0.75621043]\n",
      "  [-0.91884613 -1.11338674 -0.42297791]\n",
      "  [-1.06904335 -0.39816993 -0.34089022]\n",
      "  [ 0.83004391  0.59394382 -0.23841694]]\n",
      "\n",
      " [[-1.06509559 -1.01723373 -0.25140609]\n",
      "  [ 0.12988093  0.03941876 -0.26298575]\n",
      "  [-0.64598222  0.91667542  0.56927429]\n",
      "  [-1.05042044  0.17257451  0.59576268]]\n",
      "\n",
      " [[-0.36137308  0.19080871 -0.71909214]\n",
      "  [ 1.38089749 -0.81306707  1.06633076]\n",
      "  [ 0.08103391  0.49109794 -0.0669704 ]\n",
      "  [ 1.01103669 -0.04302556 -0.4237556 ]]\n",
      "\n",
      " [[ 0.50936305 -0.73168304 -1.22763633]\n",
      "  [ 1.81486975  0.49813952  0.68658663]\n",
      "  [ 0.34495474 -0.21185865  0.93059147]\n",
      "  [ 0.3277689   1.42770656 -0.63436524]]]\n"
     ]
    }
   ],
   "source": [
    "#2 array creation\n",
    "a = np.arange(-100, 1, 2)\n",
    "print(a)\n",
    "# 3x2 with row entries 1,1 and 2,2 and 3,3\n",
    "b = np.ones([3, 2]) * np.arange(1, 4, 1).reshape(3, 1)\n",
    "print(b)\n",
    "c = np.ones((3, 2)) * (-1)\n",
    "print(c)\n",
    "#Create a 3D tensor with shape (5,4,3) with random normal entries, with mean 0 and standard deviation 1.\n",
    "d = np.random.normal(0, 1, (5, 4, 3))\n",
    "print(d)"
   ],
   "metadata": {
    "collapsed": false
   }
  },
  {
   "cell_type": "code",
   "execution_count": 113,
   "outputs": [
    {
     "name": "stdout",
     "output_type": "stream",
     "text": [
      "[[0. 0. 0. 0. 0.]\n",
      " [0. 0. 0. 0. 0.]\n",
      " [0. 0. 0. 0. 0.]\n",
      " [0. 0. 0. 0. 0.]\n",
      " [0. 0. 0. 0. 0.]]\n",
      "[[ 9.  9.  9.  9.  9.]\n",
      " [ 9.  9.  9.  9.  9.]\n",
      " [ 9.  9.  9.  9.  9.]\n",
      " [-1. -1. -1. -1. -1.]\n",
      " [-1. -1. -1. -1. -1.]]\n",
      "5.0\n",
      "[[ 9.  9.  9.  9.  9.]\n",
      " [ 9.  9.  9.  9.  9.]\n",
      " [ 9.  9.  9.  9.  9.]\n",
      " [-1. -1. -1. -1. -1.]\n",
      " [-1. -1. -1. -1. -1.]]\n",
      "[[ 9.  9.  9.  9.  9.]\n",
      " [ 9.  9.  9.  9.  9.]\n",
      " [ 9.  9.  9.  9.  9.]\n",
      " [-1. -1. -1. -1. -1.]\n",
      " [-1. -1. -1. -1. -1.]]\n",
      "[[ 9.  9.  9.  9.  9.]\n",
      " [ 9.  9.  9.  9.  9.]\n",
      " [ 9.  9.  9.  9.  9.]\n",
      " [-1. -1. -1. -1. -1.]\n",
      " [-1. -1. -1. -1. -1.]]\n",
      "[[ 9.  9.  9.  9.  9.]\n",
      " [ 9.  9.  9.  9.  9.]\n",
      " [ 9.  9.  9.  9.  9.]\n",
      " [-1. -1. -1. -1. -1.]\n",
      " [-1. -1. -1. -1. -1.]]\n",
      "[[[ 1.  1.  1.  1.  1.]\n",
      "  [ 1.  1.  1.  1.  1.]\n",
      "  [ 1.  1.  1.  1.  1.]\n",
      "  [ 1.  1.  1.  1.  1.]\n",
      "  [ 1.  1.  1.  1.  1.]]\n",
      "\n",
      " [[ 2.  2.  2.  2.  2.]\n",
      "  [ 2.  2.  2.  2.  2.]\n",
      "  [ 2.  2.  2.  2.  2.]\n",
      "  [ 2.  2.  2.  2.  2.]\n",
      "  [ 2.  2.  2.  2.  2.]]\n",
      "\n",
      " [[ 3.  3.  3.  3.  3.]\n",
      "  [ 3.  3.  3.  3.  3.]\n",
      "  [ 3.  3.  3.  3.  3.]\n",
      "  [ 3.  3.  3.  3.  3.]\n",
      "  [ 3.  3.  3.  3.  3.]]\n",
      "\n",
      " ...\n",
      "\n",
      " [[48. 48. 48. 48. 48.]\n",
      "  [48. 48. 48. 48. 48.]\n",
      "  [48. 48. 48. 48. 48.]\n",
      "  [48. 48. 48. 48. 48.]\n",
      "  [48. 48. 48. 48. 48.]]\n",
      "\n",
      " [[49. 49. 49. 49. 49.]\n",
      "  [49. 49. 49. 49. 49.]\n",
      "  [49. 49. 49. 49. 49.]\n",
      "  [49. 49. 49. 49. 49.]\n",
      "  [49. 49. 49. 49. 49.]]\n",
      "\n",
      " [[50. 50. 50. 50. 50.]\n",
      "  [50. 50. 50. 50. 50.]\n",
      "  [50. 50. 50. 50. 50.]\n",
      "  [50. 50. 50. 50. 50.]\n",
      "  [50. 50. 50. 50. 50.]]]\n"
     ]
    }
   ],
   "source": [
    "#3 Before starting, create the 3D array td that is supposed to be a stack of 50 (mono) images of size 5×5. An image at index i should have entries i everywhere.\n",
    "td = np.ones((50, 5, 5)) * np.arange(50).reshape(50, 1, 1)\n",
    "x = td[0]\n",
    "print(x)\n",
    "#two lowermost columns of 10th image to -1\n",
    "td[9, -2:, :] = -1\n",
    "print(td[9])\n",
    "# meant pixel value of 10th image\n",
    "print(np.mean(td[9]))\n",
    "#d\n",
    "# Generate the following variations of the 10th sample and store them in a new variable z:\n",
    "# - just keep every 3rd row\n",
    "# - just keep every 3rd column\n",
    "# - inverse all rows but not columns\n",
    "# - invert rows but not colums, just keeping every 2th row\n",
    "z = td[9]\n",
    "z1 = z[::3, :]\n",
    "print(z)\n",
    "z2 = z[:, ::3]\n",
    "print(z)\n",
    "z3 = z[::-1, :]\n",
    "print(z)\n",
    "z4 = z[::-2, :]\n",
    "print(z)\n",
    "\n",
    "#e Apply the in-place transform 1+x to all samples.\n",
    "td += 1\n",
    "print(td)\n"
   ],
   "metadata": {
    "collapsed": false
   }
  },
  {
   "cell_type": "code",
   "execution_count": 114,
   "outputs": [
    {
     "name": "stdout",
     "output_type": "stream",
     "text": [
      "208.25\n",
      "49\n",
      "14.430869689661812\n",
      "[ 0.  1.  2.  3.  4.  5.  6.  7.  8.  9. 10. 11. 12. 13. 14. 15. 16. 17.\n",
      " 18. 19. 20. 21. 22. 23. 24. 25. 26. 27. 28. 29. 30. 31. 32. 33. 34. 35.\n",
      " 36. 37. 38. 39. 40. 41. 42. 43. 44. 45. 46. 47. 48. 49.]\n",
      "[24.5 24.5 24.5 24.5 24.5]\n"
     ]
    }
   ],
   "source": [
    "#4 Reduction\n",
    "td = np.ones((50, 5, 5)) * np.arange(50).reshape(50, 1, 1)\n",
    "# pixel variance for pixel 0,0 over all samples\n",
    "a = np.var(td[:, 0, 0])\n",
    "print(a)\n",
    "b = np.argmax(td[:, 0, 0])\n",
    "print(b)\n",
    "# standard deviation over all samples\n",
    "c = np.std(td)\n",
    "print(c)\n",
    "# row-wise mean over all samples\n",
    "d = np.mean(td, axis=(1, 2))\n",
    "print(d)\n",
    "#column-wise mean over all samples\n",
    "e = np.mean(td, axis=(0, 2))\n",
    "print(e)"
   ],
   "metadata": {
    "collapsed": false
   }
  },
  {
   "cell_type": "code",
   "execution_count": 115,
   "outputs": [
    {
     "name": "stdout",
     "output_type": "stream",
     "text": [
      "[[[-1. -2. -3. -4. -5.]\n",
      "  [-1. -2. -3. -4. -5.]\n",
      "  [-1. -2. -3. -4. -5.]\n",
      "  [-1. -2. -3. -4. -5.]\n",
      "  [-1. -2. -3. -4. -5.]]\n",
      "\n",
      " [[ 0. -1. -2. -3. -4.]\n",
      "  [ 0. -1. -2. -3. -4.]\n",
      "  [ 0. -1. -2. -3. -4.]\n",
      "  [ 0. -1. -2. -3. -4.]\n",
      "  [ 0. -1. -2. -3. -4.]]\n",
      "\n",
      " [[ 1.  0. -1. -2. -3.]\n",
      "  [ 1.  0. -1. -2. -3.]\n",
      "  [ 1.  0. -1. -2. -3.]\n",
      "  [ 1.  0. -1. -2. -3.]\n",
      "  [ 1.  0. -1. -2. -3.]]\n",
      "\n",
      " ...\n",
      "\n",
      " [[46. 45. 44. 43. 42.]\n",
      "  [46. 45. 44. 43. 42.]\n",
      "  [46. 45. 44. 43. 42.]\n",
      "  [46. 45. 44. 43. 42.]\n",
      "  [46. 45. 44. 43. 42.]]\n",
      "\n",
      " [[47. 46. 45. 44. 43.]\n",
      "  [47. 46. 45. 44. 43.]\n",
      "  [47. 46. 45. 44. 43.]\n",
      "  [47. 46. 45. 44. 43.]\n",
      "  [47. 46. 45. 44. 43.]]\n",
      "\n",
      " [[48. 47. 46. 45. 44.]\n",
      "  [48. 47. 46. 45. 44.]\n",
      "  [48. 47. 46. 45. 44.]\n",
      "  [48. 47. 46. 45. 44.]\n",
      "  [48. 47. 46. 45. 44.]]]\n",
      "[[[  0.   0.   0.   0.   0.]\n",
      "  [  0.   0.   0.   0.   0.]\n",
      "  [  0.   0.   0.   0.   0.]\n",
      "  [  0.   0.   0.   0.   0.]\n",
      "  [  0.   0.   0.   0.   0.]]\n",
      "\n",
      " [[  1.   1.   1.   1.   1.]\n",
      "  [  2.   2.   2.   2.   2.]\n",
      "  [  3.   3.   3.   3.   3.]\n",
      "  [  4.   4.   4.   4.   4.]\n",
      "  [  5.   5.   5.   5.   5.]]\n",
      "\n",
      " [[  2.   2.   2.   2.   2.]\n",
      "  [  4.   4.   4.   4.   4.]\n",
      "  [  6.   6.   6.   6.   6.]\n",
      "  [  8.   8.   8.   8.   8.]\n",
      "  [ 10.  10.  10.  10.  10.]]\n",
      "\n",
      " ...\n",
      "\n",
      " [[ 47.  47.  47.  47.  47.]\n",
      "  [ 94.  94.  94.  94.  94.]\n",
      "  [141. 141. 141. 141. 141.]\n",
      "  [188. 188. 188. 188. 188.]\n",
      "  [235. 235. 235. 235. 235.]]\n",
      "\n",
      " [[ 48.  48.  48.  48.  48.]\n",
      "  [ 96.  96.  96.  96.  96.]\n",
      "  [144. 144. 144. 144. 144.]\n",
      "  [192. 192. 192. 192. 192.]\n",
      "  [240. 240. 240. 240. 240.]]\n",
      "\n",
      " [[ 49.  49.  49.  49.  49.]\n",
      "  [ 98.  98.  98.  98.  98.]\n",
      "  [147. 147. 147. 147. 147.]\n",
      "  [196. 196. 196. 196. 196.]\n",
      "  [245. 245. 245. 245. 245.]]]\n",
      "[[[-24.5 -24.5 -24.5 -24.5 -24.5]\n",
      "  [-24.5 -24.5 -24.5 -24.5 -24.5]\n",
      "  [-24.5 -24.5 -24.5 -24.5 -24.5]\n",
      "  [-24.5 -24.5 -24.5 -24.5 -24.5]\n",
      "  [-24.5 -24.5 -24.5 -24.5 -24.5]]\n",
      "\n",
      " [[-23.5 -23.5 -23.5 -23.5 -23.5]\n",
      "  [-23.5 -23.5 -23.5 -23.5 -23.5]\n",
      "  [-23.5 -23.5 -23.5 -23.5 -23.5]\n",
      "  [-23.5 -23.5 -23.5 -23.5 -23.5]\n",
      "  [-23.5 -23.5 -23.5 -23.5 -23.5]]\n",
      "\n",
      " [[-22.5 -22.5 -22.5 -22.5 -22.5]\n",
      "  [-22.5 -22.5 -22.5 -22.5 -22.5]\n",
      "  [-22.5 -22.5 -22.5 -22.5 -22.5]\n",
      "  [-22.5 -22.5 -22.5 -22.5 -22.5]\n",
      "  [-22.5 -22.5 -22.5 -22.5 -22.5]]\n",
      "\n",
      " ...\n",
      "\n",
      " [[ 22.5  22.5  22.5  22.5  22.5]\n",
      "  [ 22.5  22.5  22.5  22.5  22.5]\n",
      "  [ 22.5  22.5  22.5  22.5  22.5]\n",
      "  [ 22.5  22.5  22.5  22.5  22.5]\n",
      "  [ 22.5  22.5  22.5  22.5  22.5]]\n",
      "\n",
      " [[ 23.5  23.5  23.5  23.5  23.5]\n",
      "  [ 23.5  23.5  23.5  23.5  23.5]\n",
      "  [ 23.5  23.5  23.5  23.5  23.5]\n",
      "  [ 23.5  23.5  23.5  23.5  23.5]\n",
      "  [ 23.5  23.5  23.5  23.5  23.5]]\n",
      "\n",
      " [[ 24.5  24.5  24.5  24.5  24.5]\n",
      "  [ 24.5  24.5  24.5  24.5  24.5]\n",
      "  [ 24.5  24.5  24.5  24.5  24.5]\n",
      "  [ 24.5  24.5  24.5  24.5  24.5]\n",
      "  [ 24.5  24.5  24.5  24.5  24.5]]]\n"
     ]
    }
   ],
   "source": [
    "#5 Broadcasting\n",
    "td = np.ones((50, 5, 5)) * np.arange(50).reshape(50, 1, 1)\n",
    "# create a 5-element row vector with entries from 1 to 5, and subtract it from all rows of all samples using broadcasting\n",
    "a = td - np.arange(1, 6)\n",
    "print(a)\n",
    "# create a 5-element column vector with entries from 1 to 5, and multiply it with all columns of all samples using broadcasting\n",
    "b = td * np.arange(1, 6).reshape(5, 1)\n",
    "print(b)\n",
    "#compute the mean image over all samples, and subtract it from all samples via broadcasting\n",
    "c = td - np.mean(td, axis=0)\n",
    "print(c)"
   ],
   "metadata": {
    "collapsed": false
   }
  },
  {
   "cell_type": "code",
   "execution_count": 116,
   "outputs": [
    {
     "name": "stdout",
     "output_type": "stream",
     "text": [
      "[ 1  2  3  4  5  6  7  8  9 10 11 12 13 14 15 16 17 18 19 20]\n",
      "[ 2  4  6  8 10 12 14 16 18 20]\n",
      "[ 2  6 11]\n"
     ]
    }
   ],
   "source": [
    "#6 fancy indexing\n",
    "x = np.arange(1, 21)\n",
    "print(x)\n",
    "print(x[(x % 2 == 0)])\n",
    "print(x[[1, 5, 10]])"
   ],
   "metadata": {
    "collapsed": false
   }
  },
  {
   "cell_type": "code",
   "execution_count": 117,
   "outputs": [
    {
     "data": {
      "text/plain": "<Figure size 640x480 with 1 Axes>",
      "image/png": "[encoded data removed]"
     },
     "metadata": {},
     "output_type": "display_data"
    }
   ],
   "source": [
    "#7 matplotlib\n",
    "import matplotlib.pyplot as plt\n",
    "\n",
    "x = np.linspace(1, 5, 100)\n",
    "y = 1 / x\n",
    "# plt.plot(x, y)\n",
    "# plt.scatter(x, y)\n",
    "# plt.bar(x, y)\n",
    "y1 = np.sqrt(x)\n",
    "plt.plot(x, y)\n",
    "plt.plot(x, y1)\n",
    "plt.show()"
   ],
   "metadata": {
    "collapsed": false
   }
  },
  {
   "cell_type": "code",
   "execution_count": 118,
   "outputs": [
    {
     "data": {
      "text/plain": "<Figure size 640x480 with 1 Axes>",
      "image/png": "[encoded data removed]"
     },
     "metadata": {},
     "output_type": "display_data"
    }
   ],
   "source": [
    "#generate 100 numbers distributed according to a uniform distribution be- tween 0 and 1, and display their histogram!\n",
    "x = np.random.uniform(0, 1, 100)\n",
    "plt.hist(x)\n",
    "plt.show()"
   ],
   "metadata": {
    "collapsed": false
   }
  },
  {
   "cell_type": "code",
   "execution_count": 119,
   "outputs": [
    {
     "data": {
      "text/plain": "<Figure size 640x480 with 3 Axes>",
      "image/png": "[encoded data removed]"
     },
     "metadata": {},
     "output_type": "display_data"
    }
   ],
   "source": [
    "#8  mnist and matplotlib\n",
    "#a  Display samples nr. 5,6 and 7 of traind in a single figure!\n",
    "a = traind[[5, 6, 7]]\n",
    "fig, ax = plt.subplots(1, 3)\n",
    "for i in range(3):\n",
    "    ax[i].imshow(a[i])\n",
    "    ax[i].axis('off')\n",
    "plt.show()\n"
   ],
   "metadata": {
    "collapsed": false
   }
  },
  {
   "cell_type": "code",
   "execution_count": 120,
   "outputs": [
    {
     "data": {
      "text/plain": "<Figure size 640x480 with 1 Axes>",
      "image/png": "[encoded data removed]"
     },
     "metadata": {},
     "output_type": "display_data"
    }
   ],
   "source": [
    "#b Compute the mean pixel value for each image and display all means in a scatter plot!\n",
    "b = np.mean(traind, axis=(1, 2))\n",
    "plt.scatter(np.arange(60000), b)\n",
    "plt.show()\n"
   ],
   "metadata": {
    "collapsed": false
   }
  },
  {
   "cell_type": "code",
   "execution_count": 121,
   "outputs": [
    {
     "data": {
      "text/plain": "<Figure size 640x480 with 3 Axes>",
      "image/png": "[encoded data removed]"
     },
     "metadata": {},
     "output_type": "display_data"
    }
   ],
   "source": [
    "#c\n",
    "c = traind[(np.mean(traind, axis=(1, 2)) > 0.3)]\n",
    "fig, ax = plt.subplots(1, 3)\n",
    "for i in range(3):\n",
    "    ax[i].imshow(c[i])\n",
    "    ax[i].axis('off')\n",
    "plt.show()"
   ],
   "metadata": {
    "collapsed": false
   }
  },
  {
   "cell_type": "code",
   "execution_count": 122,
   "outputs": [
    {
     "data": {
      "text/plain": "<Figure size 640x480 with 1 Axes>",
      "image/png": "[encoded data removed]"
     },
     "metadata": {},
     "output_type": "display_data"
    }
   ],
   "source": [
    "#d Compute the “variance image” over all samples and display it!\n",
    "d = np.var(traind, axis=0)\n",
    "plt.imshow(d)\n",
    "plt.show()"
   ],
   "metadata": {
    "collapsed": false
   }
  },
  {
   "cell_type": "code",
   "execution_count": 123,
   "outputs": [
    {
     "data": {
      "text/plain": "<Figure size 640x480 with 10 Axes>",
      "image/png": "[encoded data removed]"
     },
     "metadata": {},
     "output_type": "display_data"
    }
   ],
   "source": [
    "#e\n",
    "indexes = np.random.randint(0, 60000, 10)\n",
    "random_images = traind[indexes]\n",
    "fig, ax = plt.subplots(1, 10)\n",
    "for i in range(10):\n",
    "    ax[i].imshow(random_images[i])\n",
    "    ax[i].axis('off')"
   ],
   "metadata": {
    "collapsed": false
   }
  },
  {
   "cell_type": "code",
   "execution_count": 124,
   "outputs": [
    {
     "data": {
      "text/plain": "<Figure size 640x480 with 10 Axes>",
      "image/png": "[encoded data removed]"
     },
     "metadata": {},
     "output_type": "display_data"
    }
   ],
   "source": [
    "#f\n",
    "class_5 = traind[(trainl.argmax(axis=1) == 5)]\n",
    "fig, ax = plt.subplots(1, 10)\n",
    "for i in range(10):\n",
    "    ax[i].imshow(class_5[i])\n",
    "    ax[i].axis('off')\n",
    "plt.show()"
   ],
   "metadata": {
    "collapsed": false
   }
  },
  {
   "cell_type": "code",
   "execution_count": 125,
   "outputs": [
    {
     "name": "stdout",
     "output_type": "stream",
     "text": [
      "[[0.00246652 0.00246652 0.99506695]]\n",
      "[[0.21194156 0.21194156 0.57611688]]\n",
      "tf.Tensor([[0.00246652 0.00246652 0.99506706]], shape=(1, 3), dtype=float32)\n",
      "tf.Tensor([[0.21194156 0.21194156 0.5761169 ]], shape=(1, 3), dtype=float32)\n"
     ]
    }
   ],
   "source": [
    "#11 softmax in tf and numpy\n",
    "\n",
    "#Write a python function S(X) which takes an 2D TF tensor and returns the softmax, applied row-wise, as a TF tensor. The function must work for tensors X with an arbitrary number of rows!\n",
    "import tensorflow as tf\n",
    "\n",
    "\n",
    "def S_numpy(X):\n",
    "    e = np.exp(X)\n",
    "    row_sums = e.sum(axis=1)\n",
    "    row_sums_bc = row_sums.reshape(-1, 1)\n",
    "    return e / row_sums_bc;\n",
    "\n",
    "\n",
    "def S_tf(X):\n",
    "    \"\"\"Apply softmax row-wise to a 2D TensorFlow tensor\"\"\"\n",
    "    max_vals = tf.reduce_max(X, axis=1, keepdims=True)\n",
    "    exp = tf.exp(X - max_vals)\n",
    "    return exp / tf.reduce_sum(exp, axis=1, keepdims=True)\n",
    "\n",
    "\n",
    "#Print out results for ⃗x = [−1, −1, 5] and ⃗x = [1, 1, 2]!\n",
    "x = np.array([-1, -1, 5]).reshape(1, -1)\n",
    "y = np.array([1, 1, 2]).reshape(1, -1)\n",
    "print(S_numpy(x))\n",
    "print(S_numpy(y))\n",
    "X = tf.constant(np.array([[-1, -1, 5]]), dtype=tf.float32)\n",
    "print(S_tf(X))\n",
    "Y = tf.constant(np.array([[1, 1, 2]]), dtype=tf.float32)\n",
    "print(S_tf(Y))"
   ],
   "metadata": {
    "collapsed": false
   }
  },
  {
   "cell_type": "code",
   "execution_count": 126,
   "outputs": [
    {
     "name": "stdout",
     "output_type": "stream",
     "text": [
      "tf.Tensor(0.23777778, shape=(), dtype=float32)\n"
     ]
    }
   ],
   "source": [
    "#q: formula for MSE(Y,T)?\n",
    "#A: 1/N * sum((Y - T)^2)\n",
    "# Write a python function MSE(Y,T) which takes an 2D TF tensor and returns the its mean-squared-error (MSE) loss as a TF scalar!\n",
    "def MSE(Y, T):\n",
    "    return tf.reduce_mean(tf.square(Y - T))\n",
    "\n",
    "\n",
    "T = tf.constant(np.ones([3, 3]) * np.array([[0, 0, 1]]), dtype=tf.float32)\n",
    "Y = tf.constant(np.array([[0.1, 0.2, 0.7], [0.3, 0.3, 0.4], [0.8, 0.1, 0.1]]), dtype=tf.float32)\n",
    "print(MSE(Y, T))"
   ],
   "metadata": {
    "collapsed": false
   }
  },
  {
   "cell_type": "code",
   "execution_count": 127,
   "outputs": [
    {
     "name": "stdout",
     "output_type": "stream",
     "text": [
      "tf.Tensor(14.0, shape=(), dtype=float32)\n",
      "tf.Tensor(8.0, shape=(), dtype=float32)\n",
      "tf.Tensor([1. 2. 3.], shape=(3,), dtype=float32)\n",
      "partial derivative of f(a2) with respect to x1 = 1.0\n"
     ]
    }
   ],
   "source": [
    "#20\n",
    "#f(x) = x1 + 2 * x2 + 3 * x3\n",
    "#return tensor flow\n",
    "def f(x):\n",
    "    return tf.reduce_sum(x * tf.constant([1, 2, 3], dtype=tf.float32))\n",
    "\n",
    "\n",
    "a1 = tf.constant([1, 2, 3], dtype=tf.float32)\n",
    "a2 = tf.constant([2, 0, 2], dtype=tf.float32)\n",
    "print(f(a1))\n",
    "print(f(a2))\n",
    "\n",
    "#b Use TF to compute and display the value of ∇⃗ f , evaluated for ⃗x = ⃗a1\n",
    "\n",
    "with tf.GradientTape() as tape:\n",
    "    x = tf.Variable(a1)\n",
    "    y = f(x)\n",
    "print(tape.gradient(y, x))\n",
    "\n",
    "with tf.GradientTape() as tape:\n",
    "    tape.watch(a2)\n",
    "    result = f(a2)\n",
    "\n",
    "partial_deriv = tape.gradient(result, a2)[0]\n",
    "print(\"partial derivative of f(a2) with respect to x1 =\", partial_deriv.numpy())\n"
   ],
   "metadata": {
    "collapsed": false
   }
  },
  {
   "cell_type": "code",
   "execution_count": 128,
   "outputs": [
    {
     "name": "stdout",
     "output_type": "stream",
     "text": [
      "tf.Tensor([27. 11.  1.], shape=(3,), dtype=float32)\n"
     ]
    }
   ],
   "source": [
    "#3.1\n",
    "def S(X):\n",
    "    return tf.reduce_sum(tf.square(X), axis=1)\n",
    "\n",
    "\n",
    "X = tf.constant(np.array([[-1, -1, 5], [1, 1, 3], [0, 0, 1]]), dtype=tf.float32)\n",
    "print(S(X))"
   ],
   "metadata": {
    "collapsed": false
   }
  },
  {
   "cell_type": "code",
   "execution_count": 130,
   "outputs": [
    {
     "name": "stdout",
     "output_type": "stream",
     "text": [
      "tf.Tensor(6.0, shape=(), dtype=float32)\n",
      "tf.Tensor(4.0, shape=(), dtype=float32)\n"
     ]
    }
   ],
   "source": [
    "#3.2 a\n",
    "# Implement f(x) = sumi(xi) as a Python function expecting a tensor of type tf. Variable as its only parameter and compute its output for the inputs at = (1, 2, 3) and a2 = (2, 0, 2).\n",
    "def f(x):\n",
    "    return tf.reduce_sum(x)\n",
    "\n",
    "a1 = tf.Variable([1, 2, 3], dtype=tf.float32)\n",
    "a2 = tf.Variable([2, 0, 2], dtype=tf.float32)\n",
    "print(f(a1))\n",
    "print(f(a2))\n"
   ],
   "metadata": {
    "collapsed": false
   }
  },
  {
   "cell_type": "code",
   "execution_count": 132,
   "outputs": [
    {
     "name": "stdout",
     "output_type": "stream",
     "text": [
      "tf.Tensor([1. 1. 1.], shape=(3,), dtype=float32)\n",
      "tf.Tensor([1. 1. 1.], shape=(3,), dtype=float32)\n"
     ]
    }
   ],
   "source": [
    "#3.2 b\n",
    "# Use TF to compute and display the value of Vf, evaluated for ~ = &, and for I = dr\n",
    "with tf.GradientTape() as tape:\n",
    "    x = tf.Variable(a1)\n",
    "    y = f(x)\n",
    "print(tape.gradient(y, x))\n",
    "\n",
    "with tf.GradientTape() as tape:\n",
    "    x1 = tf.Variable(a2)\n",
    "    y1 = f(x1)\n",
    "print(tape.gradient(y1, x1))\n"
   ],
   "metadata": {
    "collapsed": false
   }
  },
  {
   "cell_type": "code",
   "execution_count": null,
   "outputs": [],
   "source": [],
   "metadata": {
    "collapsed": false
   }
  }
 ],
 "metadata": {
  "kernelspec": {
   "display_name": "Python 3",
   "language": "python",
   "name": "python3"
  },
  "language_info": {
   "codemirror_mode": {
    "name": "ipython",
    "version": 2
   },
   "file_extension": ".py",
   "mimetype": "text/x-python",
   "name": "python",
   "nbconvert_exporter": "python",
   "pygments_lexer": "ipython2",
   "version": "2.7.6"
  }
 },
 "nbformat": 4,
 "nbformat_minor": 0
}
