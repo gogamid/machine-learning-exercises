{
 "cells": [
  {
   "cell_type": "code",
   "execution_count": 9,
   "outputs": [
    {
     "name": "stdout",
     "output_type": "stream",
     "text": [
      "[[-0.69455227 -0.01713182 -0.41430938]\n",
      " [-0.39578386  0.46451763  0.700153  ]\n",
      " [-0.24210165  0.04308755  0.332031  ]]\n",
      "[[0.         0.         0.        ]\n",
      " [0.         0.46451763 0.700153  ]\n",
      " [0.         0.04308755 0.332031  ]]\n"
     ]
    }
   ],
   "source": [
    "import numpy as np\n",
    "\n",
    "#4 Write a Python function that uses numpy to compute the ReLU operation.\n",
    "def relu(x):\n",
    "    return np.maximum(0, x)\n",
    "\n",
    "#Use a 2D matrix of shape [3,3] that contains random uniform values between -1 and 1 to test your function!\n",
    "x = np.random.uniform(-1, 1, [3,3])\n",
    "print(x)\n",
    "x1 = relu(x)\n",
    "print(x1)"
   ],
   "metadata": {
    "collapsed": false
   }
  },
  {
   "cell_type": "code",
   "execution_count": 10,
   "outputs": [
    {
     "data": {
      "text/plain": "<Figure size 432x288 with 1 Axes>",
      "image/png": "[encoded data removed]"
     },
     "metadata": {
      "needs_background": "light"
     },
     "output_type": "display_data"
    }
   ],
   "source": [
    "import matplotlib.pyplot as plt\n",
    "#5 Plotting ReLU\n",
    "# Use matplotlib to plot the ReLU function between -5 and 5 using 100 support points!\n",
    "x = np.linspace(-5, 5, 100)\n",
    "y = relu(x)\n",
    "plt.plot(x, y)\n",
    "plt.xlim(-5, 5)\n",
    "plt.ylim(-1, 5)\n",
    "plt.show()"
   ],
   "metadata": {
    "collapsed": false
   }
  },
  {
   "cell_type": "code",
   "execution_count": null,
   "outputs": [],
   "source": [],
   "metadata": {
    "collapsed": false
   }
  }
 ],
 "metadata": {
  "kernelspec": {
   "display_name": "Python 3",
   "language": "python",
   "name": "python3"
  },
  "language_info": {
   "codemirror_mode": {
    "name": "ipython",
    "version": 2
   },
   "file_extension": ".py",
   "mimetype": "text/x-python",
   "name": "python",
   "nbconvert_exporter": "python",
   "pygments_lexer": "ipython2",
   "version": "2.7.6"
  }
 },
 "nbformat": 4,
 "nbformat_minor": 0
}
