{
 "cells": [
  {
   "cell_type": "code",
   "execution_count": 1,
   "metadata": {
    "collapsed": true
   },
   "outputs": [],
   "source": [
    "import numpy as np"
   ]
  },
  {
   "cell_type": "code",
   "execution_count": 2,
   "outputs": [
    {
     "name": "stdout",
     "output_type": "stream",
     "text": [
      "[0 1 1 0 1 0 0 1 3 0 3 0 2 1 0 0 2 0 2 2]\n",
      "[3 3 2 0 3 0 0 0 1 0 2 0 1 3 0 0 3 0 1 0]\n",
      "[[8. 0. 0. 1.]\n",
      " [1. 0. 1. 3.]\n",
      " [1. 2. 0. 1.]\n",
      " [0. 1. 1. 0.]]\n"
     ]
    }
   ],
   "source": [
    "# a) Give a code snippet that create two random 1D arrays of length 20, with integer entries between 0 and 3 (included). Then, the code should compute the confusion matrix from these two vectors. For-loops are forbidden here!!\n",
    "t = np.random.randint(0, 4, 20)\n",
    "print(t)\n",
    "y = np.random.randint(0, 4, 20)\n",
    "print(y)\n",
    "mat = np.zeros((4,4))\n",
    "np.add.at(mat, (t, y),1)\n",
    "print(mat)"
   ],
   "metadata": {
    "collapsed": false
   }
  },
  {
   "cell_type": "code",
   "execution_count": 3,
   "outputs": [
    {
     "name": "stdout",
     "output_type": "stream",
     "text": [
      "[ 0  1  2  3  4  5  6  7  8  9 10 11 12 13 14 15 16 17 18 19]\n",
      "[ 0  1  2  3  4  5  6  7  8  9 10 11 12 13 14 15 16 17 18 19]\n",
      "[ 7  5  1 16 12 13 10  9 14 17  3  8 19 15  4 11 18  2  6  0]\n",
      "[ 7  5  1 16 12 13 10  9 14 17  3  8 19 15  4 11 18  2  6  0]\n"
     ]
    }
   ],
   "source": [
    "# b) Give a code snippet that generates two 1D arrays with values from 0 to 19 (included) in ascending order. Then, the code should shuffle both arrays such that same positions contain same values after shuffling (like you would shuffle train data and labels). For-loops are forbidden here!!\n",
    "x = np.arange(20)\n",
    "print(x)\n",
    "l = np.arange(20)\n",
    "print(l)\n",
    "\n",
    "# create a random permutation of indices\n",
    "perm = np.random.permutation(len(x))\n",
    "\n",
    "\n",
    "x = x[perm]\n",
    "l = l[perm]\n",
    "print(x)\n",
    "print(l)"
   ],
   "metadata": {
    "collapsed": false
   }
  },
  {
   "cell_type": "code",
   "execution_count": 4,
   "outputs": [
    {
     "name": "stdout",
     "output_type": "stream",
     "text": [
      "[3 1 5 4 7 8 2 9 6 0]\n",
      "[[0. 0. 0. 1. 0. 0. 0. 0. 0. 0.]\n",
      " [0. 1. 0. 0. 0. 0. 0. 0. 0. 0.]\n",
      " [0. 0. 0. 0. 0. 1. 0. 0. 0. 0.]\n",
      " [0. 0. 0. 0. 1. 0. 0. 0. 0. 0.]\n",
      " [0. 0. 0. 0. 0. 0. 0. 1. 0. 0.]\n",
      " [0. 0. 0. 0. 0. 0. 0. 0. 1. 0.]\n",
      " [0. 0. 1. 0. 0. 0. 0. 0. 0. 0.]\n",
      " [0. 0. 0. 0. 0. 0. 0. 0. 0. 1.]\n",
      " [0. 0. 0. 0. 0. 0. 1. 0. 0. 0.]\n",
      " [1. 0. 0. 0. 0. 0. 0. 0. 0. 0.]]\n"
     ]
    }
   ],
   "source": [
    "# c) Give a code snippet that creates a 1D array with random values from 0 to 9 (included). Then, interpret this array as scalar targets and create a one-hot representation for them, assuming 10 classes.\n",
    "targets = np.random.permutation(10)\n",
    "print(targets)\n",
    "one_hot = np.eye(10)[targets]\n",
    "print(one_hot)"
   ],
   "metadata": {
    "collapsed": false
   }
  },
  {
   "cell_type": "code",
   "execution_count": 6,
   "outputs": [
    {
     "name": "stdout",
     "output_type": "stream",
     "text": [
      "[2 0 3 3 3 3 3 0 0 3 3 0 3 0 2 0 0 2 2 0]\n",
      "(array([ 0, 14, 17, 18]),)\n"
     ]
    }
   ],
   "source": [
    "#For-loops are forbidden here! Create a one-dimensional array X (with 20 elements) of random integers between 0 and 3. Create an array that contains the indices of all elements of X that are equal to 2, and print the result!\n",
    "X = np.random.randint(0, 4, 20)\n",
    "print(X)\n",
    "print(np.where(X == 2))\n",
    "\n"
   ],
   "metadata": {
    "collapsed": false
   }
  },
  {
   "cell_type": "code",
   "execution_count": null,
   "outputs": [],
   "source": [],
   "metadata": {
    "collapsed": false
   }
  }
 ],
 "metadata": {
  "kernelspec": {
   "display_name": "Python 3",
   "language": "python",
   "name": "python3"
  },
  "language_info": {
   "codemirror_mode": {
    "name": "ipython",
    "version": 2
   },
   "file_extension": ".py",
   "mimetype": "text/x-python",
   "name": "python",
   "nbconvert_exporter": "python",
   "pygments_lexer": "ipython2",
   "version": "2.7.6"
  }
 },
 "nbformat": 4,
 "nbformat_minor": 0
}
